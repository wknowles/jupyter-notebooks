{
 "cells": [
  {
   "cell_type": "markdown",
   "metadata": {},
   "source": [
    "## A quick look at Residential housing in Philadelphia\n",
    "\n",
    "Data gathered from [opendataphilly](https://www.opendataphilly.org/dataset/opa-property-assessments) using the [Socrata API](https://dev.socrata.com/foundry/data.phila.gov/tqtk-pmbv) to filter dataset.\n",
    "\n",
    "I would like to use this to help find properties built before 1978 (the year a ban against using lead in paint came into effect)."
   ]
  },
  {
   "cell_type": "code",
   "execution_count": 1,
   "metadata": {
    "collapsed": false
   },
   "outputs": [],
   "source": [
    "import numpy as np\n",
    "import pandas as pd\n",
    "from pandas import Series, DataFrame"
   ]
  },
  {
   "cell_type": "code",
   "execution_count": 2,
   "metadata": {
    "collapsed": true
   },
   "outputs": [],
   "source": [
    "# use pandas to read csv and store as dataframe object \n",
    "buildings = pd.read_csv('data/properties.csv', dtype={'census_tract': object} )"
   ]
  },
  {
   "cell_type": "code",
   "execution_count": 3,
   "metadata": {
    "collapsed": true
   },
   "outputs": [
    {
     "name": "stdout",
     "output_type": "stream",
     "text": [
      "<class 'pandas.core.frame.DataFrame'>\n",
      "RangeIndex: 580042 entries, 0 to 580041\n",
      "Data columns (total 7 columns):\n",
      "census_tract           580042 non-null object\n",
      "coordinates            578737 non-null object\n",
      "location               580042 non-null object\n",
      "street_name            580042 non-null object\n",
      "year_built             528014 non-null float64\n",
      "year_built_estimate    439123 non-null object\n",
      "zip_code               580037 non-null float64\n",
      "dtypes: float64(2), object(5)\n",
      "memory usage: 31.0+ MB\n"
     ]
    },
    {
     "data": {
      "text/html": [
       "<div>\n",
       "<table border=\"1\" class=\"dataframe\">\n",
       "  <thead>\n",
       "    <tr style=\"text-align: right;\">\n",
       "      <th></th>\n",
       "      <th>census_tract</th>\n",
       "      <th>coordinates</th>\n",
       "      <th>location</th>\n",
       "      <th>street_name</th>\n",
       "      <th>year_built</th>\n",
       "      <th>year_built_estimate</th>\n",
       "      <th>zip_code</th>\n",
       "    </tr>\n",
       "  </thead>\n",
       "  <tbody>\n",
       "    <tr>\n",
       "      <th>0</th>\n",
       "      <td>023</td>\n",
       "      <td>POINT (-75.162942 39.933671)</td>\n",
       "      <td>1119 WHARTON ST</td>\n",
       "      <td>WHARTON</td>\n",
       "      <td>1915.0</td>\n",
       "      <td>NaN</td>\n",
       "      <td>191475003.0</td>\n",
       "    </tr>\n",
       "    <tr>\n",
       "      <th>1</th>\n",
       "      <td>083</td>\n",
       "      <td>POINT (-75.240782 39.953394)</td>\n",
       "      <td>514 S 59TH ST</td>\n",
       "      <td>59TH</td>\n",
       "      <td>1925.0</td>\n",
       "      <td>NaN</td>\n",
       "      <td>191431915.0</td>\n",
       "    </tr>\n",
       "    <tr>\n",
       "      <th>2</th>\n",
       "      <td>083</td>\n",
       "      <td>POINT (-75.240929 39.9527)</td>\n",
       "      <td>546 S 59TH ST</td>\n",
       "      <td>59TH</td>\n",
       "      <td>1925.0</td>\n",
       "      <td>NaN</td>\n",
       "      <td>191431915.0</td>\n",
       "    </tr>\n",
       "    <tr>\n",
       "      <th>3</th>\n",
       "      <td>082</td>\n",
       "      <td>POINT (-75.241263 39.951092)</td>\n",
       "      <td>640 S 59TH ST</td>\n",
       "      <td>59TH</td>\n",
       "      <td>1925.0</td>\n",
       "      <td>Y</td>\n",
       "      <td>191432433.0</td>\n",
       "    </tr>\n",
       "    <tr>\n",
       "      <th>4</th>\n",
       "      <td>201</td>\n",
       "      <td>POINT (-75.154961 40.00141)</td>\n",
       "      <td>1500 W ALLEGHENY AVE</td>\n",
       "      <td>ALLEGHENY</td>\n",
       "      <td>1925.0</td>\n",
       "      <td>NaN</td>\n",
       "      <td>191321715.0</td>\n",
       "    </tr>\n",
       "  </tbody>\n",
       "</table>\n",
       "</div>"
      ],
      "text/plain": [
       "  census_tract                   coordinates              location  \\\n",
       "0          023  POINT (-75.162942 39.933671)       1119 WHARTON ST   \n",
       "1          083  POINT (-75.240782 39.953394)         514 S 59TH ST   \n",
       "2          083    POINT (-75.240929 39.9527)         546 S 59TH ST   \n",
       "3          082  POINT (-75.241263 39.951092)         640 S 59TH ST   \n",
       "4          201   POINT (-75.154961 40.00141)  1500 W ALLEGHENY AVE   \n",
       "\n",
       "  street_name  year_built year_built_estimate     zip_code  \n",
       "0     WHARTON      1915.0                 NaN  191475003.0  \n",
       "1        59TH      1925.0                 NaN  191431915.0  \n",
       "2        59TH      1925.0                 NaN  191431915.0  \n",
       "3        59TH      1925.0                   Y  191432433.0  \n",
       "4   ALLEGHENY      1925.0                 NaN  191321715.0  "
      ]
     },
     "execution_count": 3,
     "metadata": {},
     "output_type": "execute_result"
    }
   ],
   "source": [
    "#quick look at dataframe\n",
    "buildings.info()\n",
    "buildings.head()"
   ]
  },
  {
   "cell_type": "markdown",
   "metadata": {},
   "source": [
    "The accuracy of the data is important. Knowing exact dates of the buildings construction will be helpful in determining the possibility of lead contamination. An estimated date is still helpful - materials and styles of building have not changed greatly from year to year. We are going to be looking at all buildings built (or estimated to have been built) prior to 1978 (when lead paint was banned). As we can see below, an outstanding majority of the buildings in the dataset have had their dates estimated.\n",
    "\n",
    "Using the `value_counts` method counts the number of occurances of a specified value."
   ]
  },
  {
   "cell_type": "code",
   "execution_count": 4,
   "metadata": {
    "collapsed": false
   },
   "outputs": [
    {
     "data": {
      "text/plain": [
       "Y    438729\n",
       "N       382\n",
       "0        12\n",
       "Name: year_built_estimate, dtype: int64"
      ]
     },
     "execution_count": 4,
     "metadata": {},
     "output_type": "execute_result"
    }
   ],
   "source": [
    "estimate_counts = buildings['year_built_estimate'].value_counts()\n",
    "estimate_counts"
   ]
  },
  {
   "cell_type": "markdown",
   "metadata": {},
   "source": [
    "To find the 10 most commonly occuring street in the data set we run code similar to the above code but instead of counting the column `year_built_estimate` we look at `street_name`."
   ]
  },
  {
   "cell_type": "code",
   "execution_count": 60,
   "metadata": {
    "collapsed": false
   },
   "outputs": [
    {
     "data": {
      "text/plain": [
       "LOCUST    3166\n",
       "06TH      3012\n",
       "02ND      2967\n",
       "18TH      2841\n",
       "05TH      2728\n",
       "SPRUCE    2671\n",
       "16TH      2654\n",
       "07TH      2605\n",
       "08TH      2588\n",
       "17TH      2587\n",
       "Name: street_name, dtype: int64"
      ]
     },
     "execution_count": 60,
     "metadata": {},
     "output_type": "execute_result"
    }
   ],
   "source": [
    "street_counts = buildings['street_name'].value_counts()\n",
    "#show the 10 streets with highest number of residential buildings\n",
    "street_counts[:10]"
   ]
  },
  {
   "cell_type": "markdown",
   "metadata": {},
   "source": [
    "In order to plot this we need to import matplotlib and add juypter magic to allow it to show the plot inline:"
   ]
  },
  {
   "cell_type": "code",
   "execution_count": 55,
   "metadata": {
    "collapsed": true
   },
   "outputs": [],
   "source": [
    "import matplotlib.pyplot as plt\n",
    "%matplotlib inline"
   ]
  },
  {
   "cell_type": "code",
   "execution_count": 63,
   "metadata": {
    "collapsed": false
   },
   "outputs": [
    {
     "data": {
      "text/plain": [
       "<matplotlib.axes._subplots.AxesSubplot at 0x12dd4cd30>"
      ]
     },
     "execution_count": 63,
     "metadata": {},
     "output_type": "execute_result"
    },
    {
     "data": {
      "image/png": "[encoded data removed]",
      "text/plain": [
       "<matplotlib.figure.Figure at 0x12e389978>"
      ]
     },
     "metadata": {},
     "output_type": "display_data"
    }
   ],
   "source": [
    "plt.figure()\n",
    "street_counts[:10].plot(kind='barh', rot=0)"
   ]
  },
  {
   "cell_type": "markdown",
   "metadata": {},
   "source": [
    "---\n",
    "\n",
    "I now want to look at each street and find how many houses are pre 1978 and how many are post 1978.\n",
    "\n",
    "The column for `year_built` has some values that are null and will give errors if we tried to count them. What we need to do is create a subset of the data, ignoring all values that are null. I have called the new datafram `cframe` for clean frame. It contains the `year_built` column but only includes the cells that are _not null_\n"
   ]
  },
  {
   "cell_type": "code",
   "execution_count": 64,
   "metadata": {
    "collapsed": false
   },
   "outputs": [],
   "source": [
    "cframe = buildings[buildings.year_built.notnull()]"
   ]
  },
  {
   "cell_type": "markdown",
   "metadata": {},
   "source": [
    "Now I want to create an array splitting pre and post 1978 housing. Im using numpy."
   ]
  },
  {
   "cell_type": "code",
   "execution_count": 65,
   "metadata": {
    "collapsed": false,
    "scrolled": true
   },
   "outputs": [
    {
     "data": {
      "text/plain": [
       "array(['Pre 1978', 'Pre 1978', 'Pre 1978', 'Pre 1978', 'Pre 1978',\n",
       "       'Pre 1978', 'Pre 1978', 'Pre 1978', 'Pre 1978', 'Pre 1978',\n",
       "       'Post 1978', 'Post 1978', 'Pre 1978', 'Post 1978', 'Pre 1978',\n",
       "       'Pre 1978', 'Pre 1978', 'Pre 1978', 'Pre 1978', 'Post 1978'], \n",
       "      dtype='<U9')"
      ]
     },
     "execution_count": 65,
     "metadata": {},
     "output_type": "execute_result"
    }
   ],
   "source": [
    "year_prepost = np.where(cframe['year_built'] < 1978,\n",
    "                            'Pre 1978', 'Post 1978')\n",
    "year_prepost[:20]"
   ]
  },
  {
   "cell_type": "markdown",
   "metadata": {},
   "source": [
    "Now group the pre / post array by street name - this could also be done by zip code or census tract (why not try that too!)  **try to work out why it doesn't work with zip code**. Could you fix it?"
   ]
  },
  {
   "cell_type": "code",
   "execution_count": 69,
   "metadata": {
    "collapsed": false
   },
   "outputs": [],
   "source": [
    "by_year_street = cframe.groupby(['street_name', year_prepost])"
   ]
  },
  {
   "cell_type": "code",
   "execution_count": 70,
   "metadata": {
    "collapsed": true
   },
   "outputs": [],
   "source": [
    "agg_counts = by_year_street.size().unstack().fillna(0)"
   ]
  },
  {
   "cell_type": "code",
   "execution_count": 71,
   "metadata": {
    "collapsed": false,
    "scrolled": true
   },
   "outputs": [
    {
     "data": {
      "text/html": [
       "<div>\n",
       "<table border=\"1\" class=\"dataframe\">\n",
       "  <thead>\n",
       "    <tr style=\"text-align: right;\">\n",
       "      <th></th>\n",
       "      <th>Post 1978</th>\n",
       "      <th>Pre 1978</th>\n",
       "    </tr>\n",
       "    <tr>\n",
       "      <th>street_name</th>\n",
       "      <th></th>\n",
       "      <th></th>\n",
       "    </tr>\n",
       "  </thead>\n",
       "  <tbody>\n",
       "    <tr>\n",
       "      <th>02ND</th>\n",
       "      <td>700.0</td>\n",
       "      <td>1887.0</td>\n",
       "    </tr>\n",
       "    <tr>\n",
       "      <th>03RD</th>\n",
       "      <td>209.0</td>\n",
       "      <td>1743.0</td>\n",
       "    </tr>\n",
       "    <tr>\n",
       "      <th>04TH</th>\n",
       "      <td>221.0</td>\n",
       "      <td>1882.0</td>\n",
       "    </tr>\n",
       "    <tr>\n",
       "      <th>05TH</th>\n",
       "      <td>152.0</td>\n",
       "      <td>2156.0</td>\n",
       "    </tr>\n",
       "    <tr>\n",
       "      <th>06TH</th>\n",
       "      <td>611.0</td>\n",
       "      <td>2037.0</td>\n",
       "    </tr>\n",
       "    <tr>\n",
       "      <th>07TH</th>\n",
       "      <td>147.0</td>\n",
       "      <td>2095.0</td>\n",
       "    </tr>\n",
       "    <tr>\n",
       "      <th>08TH</th>\n",
       "      <td>109.0</td>\n",
       "      <td>2185.0</td>\n",
       "    </tr>\n",
       "    <tr>\n",
       "      <th>09TH</th>\n",
       "      <td>91.0</td>\n",
       "      <td>1787.0</td>\n",
       "    </tr>\n",
       "    <tr>\n",
       "      <th>10TH</th>\n",
       "      <td>57.0</td>\n",
       "      <td>1668.0</td>\n",
       "    </tr>\n",
       "    <tr>\n",
       "      <th>11TH</th>\n",
       "      <td>132.0</td>\n",
       "      <td>1563.0</td>\n",
       "    </tr>\n",
       "  </tbody>\n",
       "</table>\n",
       "</div>"
      ],
      "text/plain": [
       "             Post 1978  Pre 1978\n",
       "street_name                     \n",
       "02ND             700.0    1887.0\n",
       "03RD             209.0    1743.0\n",
       "04TH             221.0    1882.0\n",
       "05TH             152.0    2156.0\n",
       "06TH             611.0    2037.0\n",
       "07TH             147.0    2095.0\n",
       "08TH             109.0    2185.0\n",
       "09TH              91.0    1787.0\n",
       "10TH              57.0    1668.0\n",
       "11TH             132.0    1563.0"
      ]
     },
     "execution_count": 71,
     "metadata": {},
     "output_type": "execute_result"
    }
   ],
   "source": [
    "agg_counts[:10]"
   ]
  },
  {
   "cell_type": "code",
   "execution_count": 72,
   "metadata": {
    "collapsed": false
   },
   "outputs": [
    {
     "data": {
      "text/plain": [
       "street_name\n",
       "02ND     354\n",
       "03RD     346\n",
       "04TH    2353\n",
       "05TH     765\n",
       "06TH     710\n",
       "07TH     713\n",
       "08TH    2485\n",
       "09TH     211\n",
       "10TH    1688\n",
       "11TH    1804\n",
       "dtype: int64"
      ]
     },
     "execution_count": 72,
     "metadata": {},
     "output_type": "execute_result"
    }
   ],
   "source": [
    "# Use to sort in ascending order\n",
    "indexer = agg_counts.sum(1).argsort()\n",
    "indexer[:10]"
   ]
  },
  {
   "cell_type": "code",
   "execution_count": 73,
   "metadata": {
    "collapsed": false
   },
   "outputs": [
    {
     "data": {
      "text/html": [
       "<div>\n",
       "<table border=\"1\" class=\"dataframe\">\n",
       "  <thead>\n",
       "    <tr style=\"text-align: right;\">\n",
       "      <th></th>\n",
       "      <th>Post 1978</th>\n",
       "      <th>Pre 1978</th>\n",
       "    </tr>\n",
       "    <tr>\n",
       "      <th>street_name</th>\n",
       "      <th></th>\n",
       "      <th></th>\n",
       "    </tr>\n",
       "  </thead>\n",
       "  <tbody>\n",
       "    <tr>\n",
       "      <th>CHESTNUT</th>\n",
       "      <td>39.0</td>\n",
       "      <td>2253.0</td>\n",
       "    </tr>\n",
       "    <tr>\n",
       "      <th>08TH</th>\n",
       "      <td>109.0</td>\n",
       "      <td>2185.0</td>\n",
       "    </tr>\n",
       "    <tr>\n",
       "      <th>05TH</th>\n",
       "      <td>152.0</td>\n",
       "      <td>2156.0</td>\n",
       "    </tr>\n",
       "    <tr>\n",
       "      <th>16TH</th>\n",
       "      <td>251.0</td>\n",
       "      <td>2073.0</td>\n",
       "    </tr>\n",
       "    <tr>\n",
       "      <th>WALNUT</th>\n",
       "      <td>694.0</td>\n",
       "      <td>1644.0</td>\n",
       "    </tr>\n",
       "    <tr>\n",
       "      <th>02ND</th>\n",
       "      <td>700.0</td>\n",
       "      <td>1887.0</td>\n",
       "    </tr>\n",
       "    <tr>\n",
       "      <th>SPRUCE</th>\n",
       "      <td>56.0</td>\n",
       "      <td>2541.0</td>\n",
       "    </tr>\n",
       "    <tr>\n",
       "      <th>06TH</th>\n",
       "      <td>611.0</td>\n",
       "      <td>2037.0</td>\n",
       "    </tr>\n",
       "    <tr>\n",
       "      <th>18TH</th>\n",
       "      <td>325.0</td>\n",
       "      <td>2325.0</td>\n",
       "    </tr>\n",
       "    <tr>\n",
       "      <th>LOCUST</th>\n",
       "      <td>129.0</td>\n",
       "      <td>2952.0</td>\n",
       "    </tr>\n",
       "  </tbody>\n",
       "</table>\n",
       "</div>"
      ],
      "text/plain": [
       "             Post 1978  Pre 1978\n",
       "street_name                     \n",
       "CHESTNUT          39.0    2253.0\n",
       "08TH             109.0    2185.0\n",
       "05TH             152.0    2156.0\n",
       "16TH             251.0    2073.0\n",
       "WALNUT           694.0    1644.0\n",
       "02ND             700.0    1887.0\n",
       "SPRUCE            56.0    2541.0\n",
       "06TH             611.0    2037.0\n",
       "18TH             325.0    2325.0\n",
       "LOCUST           129.0    2952.0"
      ]
     },
     "execution_count": 73,
     "metadata": {},
     "output_type": "execute_result"
    }
   ],
   "source": [
    "count_subset = agg_counts.take(indexer)[-10:]\n",
    "count_subset"
   ]
  },
  {
   "cell_type": "code",
   "execution_count": 74,
   "metadata": {
    "collapsed": false
   },
   "outputs": [
    {
     "data": {
      "text/plain": [
       "<matplotlib.axes._subplots.AxesSubplot at 0x1370455c0>"
      ]
     },
     "execution_count": 74,
     "metadata": {},
     "output_type": "execute_result"
    },
    {
     "data": {
      "text/plain": [
       "<matplotlib.figure.Figure at 0x10458f0f0>"
      ]
     },
     "metadata": {},
     "output_type": "display_data"
    },
    {
     "data": {
      "image/png": "[encoded data removed]",
      "text/plain": [
       "<matplotlib.figure.Figure at 0x136f2e780>"
      ]
     },
     "metadata": {},
     "output_type": "display_data"
    }
   ],
   "source": [
    "plt.figure()\n",
    "count_subset.plot(kind='barh', stacked=True)"
   ]
  },
  {
   "cell_type": "code",
   "execution_count": null,
   "metadata": {
    "collapsed": true
   },
   "outputs": [],
   "source": []
  }
 ],
 "metadata": {
  "anaconda-cloud": {},
  "kernelspec": {
   "display_name": "Python [default]",
   "language": "python",
   "name": "python3"
  },
  "language_info": {
   "codemirror_mode": {
    "name": "ipython",
    "version": 3
   },
   "file_extension": ".py",
   "mimetype": "text/x-python",
   "name": "python",
   "nbconvert_exporter": "python",
   "pygments_lexer": "ipython3",
   "version": "3.5.2"
  }
 },
 "nbformat": 4,
 "nbformat_minor": 1
}
