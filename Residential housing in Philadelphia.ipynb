{
 "cells": [
  {
   "cell_type": "markdown",
   "metadata": {},
   "source": [
    "## A quick look at Residential housing in Philadelphia\n",
    "\n",
    "Data gathered from [opendataphilly](https://www.opendataphilly.org/dataset/opa-property-assessments) using the [Socrata API](https://dev.socrata.com/foundry/data.phila.gov/tqtk-pmbv) to filter dataset.\n",
    "\n",
    "I would like to use this to help find properties likely to contain lead paint. This will require a number of assumptions"
   ]
  },
  {
   "cell_type": "code",
   "execution_count": null,
   "metadata": {
    "collapsed": false
   },
   "outputs": [],
   "source": [
    "import numpy as np\n",
    "import pandas as pd\n",
    "from pandas import Series, DataFrame"
   ]
  },
  {
   "cell_type": "code",
   "execution_count": 162,
   "metadata": {
    "collapsed": true
   },
   "outputs": [],
   "source": [
    "# use pandas to read csv and store as dataframe object \n",
    "buildings = pd.read_csv('data/properties.csv', dtype={'census_tract': object} )"
   ]
  },
  {
   "cell_type": "code",
   "execution_count": null,
   "metadata": {
    "collapsed": false
   },
   "outputs": [],
   "source": [
    "buildings.info()\n",
    "buildings.head()"
   ]
  },
  {
   "cell_type": "markdown",
   "metadata": {},
   "source": [
    "The accuracy of the data is important. Knowing exact dates of the buildings construction will be helpful in determining the possibility of lead contamination. An estimated date is still helpful - materials and styles of building have not changed greatly from year to year. We are going to be looking at all buildings built (or estimated to have been built) prior to 1975 (when lead paint was banned). As we can see below, the majority of the buildings in the dataset have had their dates estimated."
   ]
  },
  {
   "cell_type": "code",
   "execution_count": 164,
   "metadata": {
    "collapsed": false
   },
   "outputs": [
    {
     "data": {
      "text/plain": [
       "Y    438729\n",
       "N       382\n",
       "0        12\n",
       "Name: year_built_estimate, dtype: int64"
      ]
     },
     "execution_count": 164,
     "metadata": {},
     "output_type": "execute_result"
    }
   ],
   "source": [
    "estimate_counts = buildings['year_built_estimate'].value_counts()\n",
    "estimate_counts"
   ]
  },
  {
   "cell_type": "markdown",
   "metadata": {},
   "source": [
    "Using the `value_counts` method counts the number of occurances of a specified value. To find the 10 most commonly occuring street in the data set we can run code below."
   ]
  },
  {
   "cell_type": "code",
   "execution_count": 184,
   "metadata": {
    "collapsed": false
   },
   "outputs": [
    {
     "data": {
      "text/plain": [
       "LOCUST      3081\n",
       "18TH        2650\n",
       "06TH        2648\n",
       "SPRUCE      2597\n",
       "02ND        2587\n",
       "WALNUT      2338\n",
       "16TH        2324\n",
       "05TH        2308\n",
       "08TH        2294\n",
       "CHESTNUT    2292\n",
       "Name: street_name, dtype: int64"
      ]
     },
     "execution_count": 184,
     "metadata": {},
     "output_type": "execute_result"
    }
   ],
   "source": [
    "street_counts = cframe['street_name'].value_counts()\n",
    "street_counts[:10]"
   ]
  },
  {
   "cell_type": "markdown",
   "metadata": {},
   "source": [
    "Now to plot this we need to import matplotlib and add juypter magic to allow it to show the plot inline:"
   ]
  },
  {
   "cell_type": "code",
   "execution_count": 166,
   "metadata": {
    "collapsed": true
   },
   "outputs": [],
   "source": [
    "%matplotlib inline\n",
    "import matplotlib.pyplot as plt"
   ]
  },
  {
   "cell_type": "code",
   "execution_count": 195,
   "metadata": {
    "collapsed": false
   },
   "outputs": [
    {
     "data": {
      "text/plain": [
       "<matplotlib.axes._subplots.AxesSubplot at 0x130ba96d8>"
      ]
     },
     "execution_count": 195,
     "metadata": {},
     "output_type": "execute_result"
    },
    {
     "data": {
      "image/png": "[encoded data removed]",
      "text/plain": [
       "<matplotlib.figure.Figure at 0x137439550>"
      ]
     },
     "metadata": {},
     "output_type": "display_data"
    }
   ],
   "source": [
    "plt.figure()\n",
    "street_counts[:10].plot(kind='barh', rot=0)"
   ]
  },
  {
   "cell_type": "markdown",
   "metadata": {},
   "source": [
    "I now want to look at each street and find how many houses are pre 1975 and how many are post 1975. \n",
    "\n",
    "# To Do\n",
    "\n",
    "Currently I am at a bit of a wall here - I have been following [Python for Data Analysis](http://shop.oreilly.com/product/0636920023784.do) and I'm at [Chapter 2](https://nbviewer.jupyter.org/github/pydata/pydata-book/blob/master/ch02.ipynb). I am adapting the bit.ly example and at the point below, the column in the example has object / string dtypes . In my data set the column is a float64 - it contains floats and NaN values (empty fields). [This](http://chris.friedline.net/2015-12-15-rutgers/lessons/python2/03-data-types-and-format.html) had been a helpful reference on datatypes.\n",
    "\n",
    "What I think I need to do is to **create a subset of the data, only keeping rows that do not contain NaN values, and have the dtype as int64.** With this I would then like to arrange `year_built` into pre and post 1975."
   ]
  },
  {
   "cell_type": "code",
   "execution_count": null,
   "metadata": {
    "collapsed": false
   },
   "outputs": [],
   "source": [
    "year_prepost = np.where(buildings['year_built'].str.contains('1975'),\n",
    "                            'Pre 1975', 'Post 1975')\n",
    "year_prepost[:10]"
   ]
  },
  {
   "cell_type": "markdown",
   "metadata": {},
   "source": [
    "# Done!\n",
    "\n",
    "I was correct in creating a subset of the data called `cframe` it has the `year_built` column but contains the cells that are _not null_"
   ]
  },
  {
   "cell_type": "code",
   "execution_count": 168,
   "metadata": {
    "collapsed": false
   },
   "outputs": [],
   "source": [
    "cframe = buildings[buildings.year_built.notnull()]"
   ]
  },
  {
   "cell_type": "code",
   "execution_count": 169,
   "metadata": {
    "collapsed": false,
    "scrolled": true
   },
   "outputs": [
    {
     "data": {
      "text/plain": [
       "array(['Pre 1978', 'Pre 1978', 'Pre 1978', 'Pre 1978', 'Pre 1978',\n",
       "       'Pre 1978', 'Pre 1978', 'Pre 1978', 'Pre 1978', 'Pre 1978'], \n",
       "      dtype='<U9')"
      ]
     },
     "execution_count": 169,
     "metadata": {},
     "output_type": "execute_result"
    }
   ],
   "source": [
    "year_prepost = np.where(cframe['year_built'] < 1978,\n",
    "                            'Pre 1978', 'Post 1978')\n",
    "year_prepost[:10]"
   ]
  },
  {
   "cell_type": "code",
   "execution_count": 170,
   "metadata": {
    "collapsed": true
   },
   "outputs": [],
   "source": [
    "by_year_street = cframe.groupby(['street_name', year_prepost])"
   ]
  },
  {
   "cell_type": "code",
   "execution_count": 171,
   "metadata": {
    "collapsed": true
   },
   "outputs": [],
   "source": [
    "agg_counts = by_year_street.size().unstack().fillna(0)"
   ]
  },
  {
   "cell_type": "code",
   "execution_count": 172,
   "metadata": {
    "collapsed": false,
    "scrolled": true
   },
   "outputs": [
    {
     "data": {
      "text/html": [
       "<div>\n",
       "<table border=\"1\" class=\"dataframe\">\n",
       "  <thead>\n",
       "    <tr style=\"text-align: right;\">\n",
       "      <th></th>\n",
       "      <th>Post 1978</th>\n",
       "      <th>Pre 1978</th>\n",
       "    </tr>\n",
       "    <tr>\n",
       "      <th>street_name</th>\n",
       "      <th></th>\n",
       "      <th></th>\n",
       "    </tr>\n",
       "  </thead>\n",
       "  <tbody>\n",
       "    <tr>\n",
       "      <th>02ND</th>\n",
       "      <td>700.0</td>\n",
       "      <td>1887.0</td>\n",
       "    </tr>\n",
       "    <tr>\n",
       "      <th>03RD</th>\n",
       "      <td>209.0</td>\n",
       "      <td>1743.0</td>\n",
       "    </tr>\n",
       "    <tr>\n",
       "      <th>04TH</th>\n",
       "      <td>221.0</td>\n",
       "      <td>1882.0</td>\n",
       "    </tr>\n",
       "    <tr>\n",
       "      <th>05TH</th>\n",
       "      <td>152.0</td>\n",
       "      <td>2156.0</td>\n",
       "    </tr>\n",
       "    <tr>\n",
       "      <th>06TH</th>\n",
       "      <td>611.0</td>\n",
       "      <td>2037.0</td>\n",
       "    </tr>\n",
       "    <tr>\n",
       "      <th>07TH</th>\n",
       "      <td>147.0</td>\n",
       "      <td>2095.0</td>\n",
       "    </tr>\n",
       "    <tr>\n",
       "      <th>08TH</th>\n",
       "      <td>109.0</td>\n",
       "      <td>2185.0</td>\n",
       "    </tr>\n",
       "    <tr>\n",
       "      <th>09TH</th>\n",
       "      <td>91.0</td>\n",
       "      <td>1787.0</td>\n",
       "    </tr>\n",
       "    <tr>\n",
       "      <th>10TH</th>\n",
       "      <td>57.0</td>\n",
       "      <td>1668.0</td>\n",
       "    </tr>\n",
       "    <tr>\n",
       "      <th>11TH</th>\n",
       "      <td>132.0</td>\n",
       "      <td>1563.0</td>\n",
       "    </tr>\n",
       "  </tbody>\n",
       "</table>\n",
       "</div>"
      ],
      "text/plain": [
       "             Post 1978  Pre 1978\n",
       "street_name                     \n",
       "02ND             700.0    1887.0\n",
       "03RD             209.0    1743.0\n",
       "04TH             221.0    1882.0\n",
       "05TH             152.0    2156.0\n",
       "06TH             611.0    2037.0\n",
       "07TH             147.0    2095.0\n",
       "08TH             109.0    2185.0\n",
       "09TH              91.0    1787.0\n",
       "10TH              57.0    1668.0\n",
       "11TH             132.0    1563.0"
      ]
     },
     "execution_count": 172,
     "metadata": {},
     "output_type": "execute_result"
    }
   ],
   "source": [
    "agg_counts[:10]"
   ]
  },
  {
   "cell_type": "code",
   "execution_count": 173,
   "metadata": {
    "collapsed": false
   },
   "outputs": [
    {
     "data": {
      "text/plain": [
       "street_name\n",
       "02ND     354\n",
       "03RD     346\n",
       "04TH    2353\n",
       "05TH     765\n",
       "06TH     710\n",
       "07TH     713\n",
       "08TH    2485\n",
       "09TH     211\n",
       "10TH    1688\n",
       "11TH    1804\n",
       "dtype: int64"
      ]
     },
     "execution_count": 173,
     "metadata": {},
     "output_type": "execute_result"
    }
   ],
   "source": [
    "# Use to sort in ascending order\n",
    "indexer = agg_counts.sum(1).argsort()\n",
    "indexer[:10]"
   ]
  },
  {
   "cell_type": "code",
   "execution_count": 182,
   "metadata": {
    "collapsed": false
   },
   "outputs": [
    {
     "data": {
      "text/html": [
       "<div>\n",
       "<table border=\"1\" class=\"dataframe\">\n",
       "  <thead>\n",
       "    <tr style=\"text-align: right;\">\n",
       "      <th></th>\n",
       "      <th>Post 1978</th>\n",
       "      <th>Pre 1978</th>\n",
       "    </tr>\n",
       "    <tr>\n",
       "      <th>street_name</th>\n",
       "      <th></th>\n",
       "      <th></th>\n",
       "    </tr>\n",
       "  </thead>\n",
       "  <tbody>\n",
       "    <tr>\n",
       "      <th>CHESTNUT</th>\n",
       "      <td>39.0</td>\n",
       "      <td>2253.0</td>\n",
       "    </tr>\n",
       "    <tr>\n",
       "      <th>08TH</th>\n",
       "      <td>109.0</td>\n",
       "      <td>2185.0</td>\n",
       "    </tr>\n",
       "    <tr>\n",
       "      <th>05TH</th>\n",
       "      <td>152.0</td>\n",
       "      <td>2156.0</td>\n",
       "    </tr>\n",
       "    <tr>\n",
       "      <th>16TH</th>\n",
       "      <td>251.0</td>\n",
       "      <td>2073.0</td>\n",
       "    </tr>\n",
       "    <tr>\n",
       "      <th>WALNUT</th>\n",
       "      <td>694.0</td>\n",
       "      <td>1644.0</td>\n",
       "    </tr>\n",
       "    <tr>\n",
       "      <th>02ND</th>\n",
       "      <td>700.0</td>\n",
       "      <td>1887.0</td>\n",
       "    </tr>\n",
       "    <tr>\n",
       "      <th>SPRUCE</th>\n",
       "      <td>56.0</td>\n",
       "      <td>2541.0</td>\n",
       "    </tr>\n",
       "    <tr>\n",
       "      <th>06TH</th>\n",
       "      <td>611.0</td>\n",
       "      <td>2037.0</td>\n",
       "    </tr>\n",
       "    <tr>\n",
       "      <th>18TH</th>\n",
       "      <td>325.0</td>\n",
       "      <td>2325.0</td>\n",
       "    </tr>\n",
       "    <tr>\n",
       "      <th>LOCUST</th>\n",
       "      <td>129.0</td>\n",
       "      <td>2952.0</td>\n",
       "    </tr>\n",
       "  </tbody>\n",
       "</table>\n",
       "</div>"
      ],
      "text/plain": [
       "             Post 1978  Pre 1978\n",
       "street_name                     \n",
       "CHESTNUT          39.0    2253.0\n",
       "08TH             109.0    2185.0\n",
       "05TH             152.0    2156.0\n",
       "16TH             251.0    2073.0\n",
       "WALNUT           694.0    1644.0\n",
       "02ND             700.0    1887.0\n",
       "SPRUCE            56.0    2541.0\n",
       "06TH             611.0    2037.0\n",
       "18TH             325.0    2325.0\n",
       "LOCUST           129.0    2952.0"
      ]
     },
     "execution_count": 182,
     "metadata": {},
     "output_type": "execute_result"
    }
   ],
   "source": [
    "count_subset = agg_counts.take(indexer)[-10:]\n",
    "count_subset"
   ]
  },
  {
   "cell_type": "code",
   "execution_count": 196,
   "metadata": {
    "collapsed": false
   },
   "outputs": [
    {
     "data": {
      "text/plain": [
       "<matplotlib.axes._subplots.AxesSubplot at 0x1376ce2e8>"
      ]
     },
     "execution_count": 196,
     "metadata": {},
     "output_type": "execute_result"
    },
    {
     "data": {
      "text/plain": [
       "<matplotlib.figure.Figure at 0x13783fd68>"
      ]
     },
     "metadata": {},
     "output_type": "display_data"
    },
    {
     "data": {
      "image/png": "[encoded data removed]",
      "text/plain": [
       "<matplotlib.figure.Figure at 0x137832550>"
      ]
     },
     "metadata": {},
     "output_type": "display_data"
    }
   ],
   "source": [
    "plt.figure()\n",
    "count_subset.plot(kind='barh', stacked=True)"
   ]
  },
  {
   "cell_type": "code",
   "execution_count": null,
   "metadata": {
    "collapsed": true
   },
   "outputs": [],
   "source": []
  }
 ],
 "metadata": {
  "anaconda-cloud": {},
  "kernelspec": {
   "display_name": "Python [default]",
   "language": "python",
   "name": "python3"
  },
  "language_info": {
   "codemirror_mode": {
    "name": "ipython",
    "version": 3
   },
   "file_extension": ".py",
   "mimetype": "text/x-python",
   "name": "python",
   "nbconvert_exporter": "python",
   "pygments_lexer": "ipython3",
   "version": "3.5.2"
  }
 },
 "nbformat": 4,
 "nbformat_minor": 1
}
